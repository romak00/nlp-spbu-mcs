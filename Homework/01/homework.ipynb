{
 "cells": [
  {
   "cell_type": "code",
   "execution_count": 1,
   "id": "3bae632e",
   "metadata": {},
   "outputs": [],
   "source": [
    "import pandas as pd\n",
    "import numpy as np\n",
    "import random\n",
    "import torch\n",
    "import torch.nn as nn\n",
    "import torch.nn.functional as F\n",
    "import re\n",
    "import time\n",
    "from torch.utils.data import Dataset, DataLoader\n",
    "from tqdm import tqdm\n",
    "from collections import Counter\n",
    "from IPython.display import clear_output\n",
    "\n",
    "from scripts import BpeTokenizer, Model, Trainer, Collator, MyDataset, generate"
   ]
  },
  {
   "cell_type": "markdown",
   "id": "fbf920c8",
   "metadata": {},
   "source": [
    "# Загружаем данные"
   ]
  },
  {
   "cell_type": "code",
   "execution_count": 2,
   "id": "62c4b8e1",
   "metadata": {
    "scrolled": true
   },
   "outputs": [],
   "source": [
    "df = pd.read_csv('data/dataset.csv')\n",
    "train_texts = df['text'][:-1024].tolist()\n",
    "eval_texts = df['text'][-1024:].tolist()"
   ]
  },
  {
   "cell_type": "markdown",
   "id": "1185cbdb",
   "metadata": {},
   "source": [
    "# Инициализируем и обучаем токенизатор"
   ]
  },
  {
   "cell_type": "code",
   "execution_count": 3,
   "id": "c2faf407",
   "metadata": {},
   "outputs": [],
   "source": [
    "tokenizer = BpeTokenizer()"
   ]
  },
  {
   "cell_type": "code",
   "execution_count": 4,
   "id": "deecd0e9",
   "metadata": {},
   "outputs": [
    {
     "name": "stderr",
     "output_type": "stream",
     "text": [
      "pair=(277, 338), freq=52: 100%|██████████| 1789/1789 [03:53<00:00,  7.65it/s]  \n"
     ]
    }
   ],
   "source": [
    "tokenizer.train(train_texts[:2048], max_vocab=2048)"
   ]
  },
  {
   "cell_type": "markdown",
   "id": "a4388757",
   "metadata": {},
   "source": [
    "# Создаем датасеты и Collator"
   ]
  },
  {
   "cell_type": "code",
   "execution_count": 5,
   "id": "5a41f636",
   "metadata": {},
   "outputs": [
    {
     "name": "stderr",
     "output_type": "stream",
     "text": [
      "100%|██████████| 16384/16384 [03:23<00:00, 80.57it/s]\n",
      "100%|██████████| 1024/1024 [00:12<00:00, 80.44it/s]\n"
     ]
    }
   ],
   "source": [
    "train_dataset = MyDataset(train_texts, tokenizer, max_length=128)\n",
    "eval_dataset = MyDataset(eval_texts, tokenizer, max_length=128)\n",
    "collator = Collator(tokenizer.pad_token_id)"
   ]
  },
  {
   "cell_type": "markdown",
   "id": "6f1d558d",
   "metadata": {},
   "source": [
    "# Создаем модель"
   ]
  },
  {
   "cell_type": "code",
   "execution_count": 6,
   "id": "6bbf25b3",
   "metadata": {},
   "outputs": [],
   "source": [
    "torch.manual_seed(42)\n",
    "np.random.seed(42)\n",
    "random.seed(42)"
   ]
  },
  {
   "cell_type": "code",
   "execution_count": 7,
   "id": "96a9378a",
   "metadata": {},
   "outputs": [],
   "source": [
    "model = Model(tokenizer.get_vocab_size(), emb_size=128, hidden_size=256, num_layers=2, dropout=0.1)"
   ]
  },
  {
   "cell_type": "markdown",
   "id": "58ee6385",
   "metadata": {},
   "source": [
    "# Создаем Trainer и запускаем обучение"
   ]
  },
  {
   "cell_type": "code",
   "execution_count": 8,
   "id": "08145518",
   "metadata": {},
   "outputs": [],
   "source": [
    "trainer = Trainer(\n",
    "    model=model,\n",
    "    train_dataset=train_dataset,\n",
    "    eval_dataset=eval_dataset,\n",
    "    n_epochs=8,\n",
    "    train_batch_size=32,\n",
    "    eval_batch_size=32,\n",
    "    eval_steps=64,\n",
    "    collator=collator,\n",
    "    lr=1e-2,\n",
    "    ignore_index=tokenizer.pad_token_id\n",
    ")"
   ]
  },
  {
   "cell_type": "code",
   "execution_count": 9,
   "id": "57b36087",
   "metadata": {},
   "outputs": [
    {
     "name": "stderr",
     "output_type": "stream",
     "text": [
      "epoch=0.126953125, loss=5.051429271697998:   2%|▏         | 65/4096 [00:34<1:49:52,  1.64s/it]"
     ]
    },
    {
     "name": "stdout",
     "output_type": "stream",
     "text": [
      "epoch=0.125, eval_loss=4.977377772331238\n"
     ]
    },
    {
     "name": "stderr",
     "output_type": "stream",
     "text": [
      "epoch=0.251953125, loss=4.219050884246826:   3%|▎         | 129/4096 [01:08<1:54:28,  1.73s/it]"
     ]
    },
    {
     "name": "stdout",
     "output_type": "stream",
     "text": [
      "epoch=0.25, eval_loss=4.1699260622262955\n"
     ]
    },
    {
     "name": "stderr",
     "output_type": "stream",
     "text": [
      "epoch=0.376953125, loss=3.9263792037963867:   5%|▍         | 193/4096 [01:45<1:56:52,  1.80s/it]"
     ]
    },
    {
     "name": "stdout",
     "output_type": "stream",
     "text": [
      "epoch=0.375, eval_loss=3.9234831109642982\n"
     ]
    },
    {
     "name": "stderr",
     "output_type": "stream",
     "text": [
      "epoch=0.501953125, loss=3.7896976470947266:   6%|▋         | 257/4096 [02:14<1:21:07,  1.27s/it]"
     ]
    },
    {
     "name": "stdout",
     "output_type": "stream",
     "text": [
      "epoch=0.5, eval_loss=3.7824966087937355\n"
     ]
    },
    {
     "name": "stderr",
     "output_type": "stream",
     "text": [
      "epoch=0.626953125, loss=3.705772638320923:   8%|▊         | 321/4096 [02:41<1:27:25,  1.39s/it] "
     ]
    },
    {
     "name": "stdout",
     "output_type": "stream",
     "text": [
      "epoch=0.625, eval_loss=3.7005261033773422\n"
     ]
    },
    {
     "name": "stderr",
     "output_type": "stream",
     "text": [
      "epoch=0.751953125, loss=3.6462454795837402:   9%|▉         | 385/4096 [03:17<1:56:03,  1.88s/it]"
     ]
    },
    {
     "name": "stdout",
     "output_type": "stream",
     "text": [
      "epoch=0.75, eval_loss=3.630602441728115\n"
     ]
    },
    {
     "name": "stderr",
     "output_type": "stream",
     "text": [
      "epoch=0.875, loss=3.6947100162506104:  11%|█         | 448/4096 [03:48<34:52,  1.74it/s]        "
     ]
    },
    {
     "name": "stdout",
     "output_type": "stream",
     "text": [
      "epoch=0.875, eval_loss=3.5837283432483673\n"
     ]
    },
    {
     "name": "stderr",
     "output_type": "stream",
     "text": [
      "epoch=1.001953125, loss=3.4615161418914795:  13%|█▎        | 513/4096 [04:32<1:42:15,  1.71s/it]"
     ]
    },
    {
     "name": "stdout",
     "output_type": "stream",
     "text": [
      "epoch=1.0, eval_loss=3.5410107225179672\n"
     ]
    },
    {
     "name": "stderr",
     "output_type": "stream",
     "text": [
      "epoch=1.126953125, loss=3.550262928009033:  14%|█▍        | 577/4096 [05:06<1:40:43,  1.72s/it] "
     ]
    },
    {
     "name": "stdout",
     "output_type": "stream",
     "text": [
      "epoch=1.125, eval_loss=3.5117374137043953\n"
     ]
    },
    {
     "name": "stderr",
     "output_type": "stream",
     "text": [
      "epoch=1.251953125, loss=3.562572479248047:  16%|█▌        | 641/4096 [05:44<1:29:17,  1.55s/it] "
     ]
    },
    {
     "name": "stdout",
     "output_type": "stream",
     "text": [
      "epoch=1.25, eval_loss=3.4895775988698006\n"
     ]
    },
    {
     "name": "stderr",
     "output_type": "stream",
     "text": [
      "epoch=1.376953125, loss=3.464972972869873:  17%|█▋        | 705/4096 [06:23<1:38:23,  1.74s/it]"
     ]
    },
    {
     "name": "stdout",
     "output_type": "stream",
     "text": [
      "epoch=1.375, eval_loss=3.4667970091104507\n"
     ]
    },
    {
     "name": "stderr",
     "output_type": "stream",
     "text": [
      "epoch=1.501953125, loss=3.4418013095855713:  19%|█▉        | 769/4096 [07:04<1:37:29,  1.76s/it]"
     ]
    },
    {
     "name": "stdout",
     "output_type": "stream",
     "text": [
      "epoch=1.5, eval_loss=3.443536974489689\n"
     ]
    },
    {
     "name": "stderr",
     "output_type": "stream",
     "text": [
      "epoch=1.626953125, loss=3.462308883666992:  20%|██        | 833/4096 [07:44<1:53:58,  2.10s/it] "
     ]
    },
    {
     "name": "stdout",
     "output_type": "stream",
     "text": [
      "epoch=1.625, eval_loss=3.42148794233799\n"
     ]
    },
    {
     "name": "stderr",
     "output_type": "stream",
     "text": [
      "epoch=1.751953125, loss=3.389242649078369:  22%|██▏       | 897/4096 [08:22<1:44:02,  1.95s/it]"
     ]
    },
    {
     "name": "stdout",
     "output_type": "stream",
     "text": [
      "epoch=1.75, eval_loss=3.4083690717816353\n"
     ]
    },
    {
     "name": "stderr",
     "output_type": "stream",
     "text": [
      "epoch=1.876953125, loss=3.413625955581665:  23%|██▎       | 961/4096 [09:01<1:35:40,  1.83s/it] "
     ]
    },
    {
     "name": "stdout",
     "output_type": "stream",
     "text": [
      "epoch=1.875, eval_loss=3.390319585800171\n"
     ]
    },
    {
     "name": "stderr",
     "output_type": "stream",
     "text": [
      "epoch=2.001953125, loss=3.295844316482544:  25%|██▌       | 1025/4096 [09:36<1:21:23,  1.59s/it]"
     ]
    },
    {
     "name": "stdout",
     "output_type": "stream",
     "text": [
      "epoch=2.0, eval_loss=3.372480146586895\n"
     ]
    },
    {
     "name": "stderr",
     "output_type": "stream",
     "text": [
      "epoch=2.126953125, loss=3.3668053150177:  27%|██▋       | 1089/4096 [10:11<1:26:03,  1.72s/it]  "
     ]
    },
    {
     "name": "stdout",
     "output_type": "stream",
     "text": [
      "epoch=2.125, eval_loss=3.3656959757208824\n"
     ]
    },
    {
     "name": "stderr",
     "output_type": "stream",
     "text": [
      "epoch=2.251953125, loss=3.3418548107147217:  28%|██▊       | 1153/4096 [10:46<1:20:57,  1.65s/it]"
     ]
    },
    {
     "name": "stdout",
     "output_type": "stream",
     "text": [
      "epoch=2.25, eval_loss=3.362291507422924\n"
     ]
    },
    {
     "name": "stderr",
     "output_type": "stream",
     "text": [
      "epoch=2.376953125, loss=3.386711359024048:  30%|██▉       | 1217/4096 [11:20<1:19:54,  1.67s/it] "
     ]
    },
    {
     "name": "stdout",
     "output_type": "stream",
     "text": [
      "epoch=2.375, eval_loss=3.3475336134433746\n"
     ]
    },
    {
     "name": "stderr",
     "output_type": "stream",
     "text": [
      "epoch=2.501953125, loss=3.4129209518432617:  31%|███▏      | 1281/4096 [11:53<1:16:37,  1.63s/it]"
     ]
    },
    {
     "name": "stdout",
     "output_type": "stream",
     "text": [
      "epoch=2.5, eval_loss=3.336732842028141\n"
     ]
    },
    {
     "name": "stderr",
     "output_type": "stream",
     "text": [
      "epoch=2.626953125, loss=3.372239828109741:  33%|███▎      | 1345/4096 [12:28<1:17:34,  1.69s/it] "
     ]
    },
    {
     "name": "stdout",
     "output_type": "stream",
     "text": [
      "epoch=2.625, eval_loss=3.3231867775321007\n"
     ]
    },
    {
     "name": "stderr",
     "output_type": "stream",
     "text": [
      "epoch=2.751953125, loss=3.3032798767089844:  34%|███▍      | 1409/4096 [13:02<1:19:55,  1.78s/it]"
     ]
    },
    {
     "name": "stdout",
     "output_type": "stream",
     "text": [
      "epoch=2.75, eval_loss=3.3128844127058983\n"
     ]
    },
    {
     "name": "stderr",
     "output_type": "stream",
     "text": [
      "epoch=2.876953125, loss=3.351466655731201:  36%|███▌      | 1473/4096 [13:36<1:15:03,  1.72s/it] "
     ]
    },
    {
     "name": "stdout",
     "output_type": "stream",
     "text": [
      "epoch=2.875, eval_loss=3.302487336099148\n"
     ]
    },
    {
     "name": "stderr",
     "output_type": "stream",
     "text": [
      "epoch=3.001953125, loss=3.1415584087371826:  38%|███▊      | 1537/4096 [14:10<1:11:52,  1.69s/it]"
     ]
    },
    {
     "name": "stdout",
     "output_type": "stream",
     "text": [
      "epoch=3.0, eval_loss=3.300219416618347\n"
     ]
    },
    {
     "name": "stderr",
     "output_type": "stream",
     "text": [
      "epoch=3.126953125, loss=3.305943250656128:  39%|███▉      | 1601/4096 [15:17<3:12:28,  4.63s/it] "
     ]
    },
    {
     "name": "stdout",
     "output_type": "stream",
     "text": [
      "epoch=3.125, eval_loss=3.2931234911084175\n"
     ]
    },
    {
     "name": "stderr",
     "output_type": "stream",
     "text": [
      "epoch=3.251953125, loss=3.269829750061035:  41%|████      | 1665/4096 [15:40<44:02,  1.09s/it]   "
     ]
    },
    {
     "name": "stdout",
     "output_type": "stream",
     "text": [
      "epoch=3.25, eval_loss=3.2896191626787186\n"
     ]
    },
    {
     "name": "stderr",
     "output_type": "stream",
     "text": [
      "epoch=3.376953125, loss=3.2371091842651367:  42%|████▏     | 1729/4096 [15:57<31:54,  1.24it/s]"
     ]
    },
    {
     "name": "stdout",
     "output_type": "stream",
     "text": [
      "epoch=3.375, eval_loss=3.282198488712311\n"
     ]
    },
    {
     "name": "stderr",
     "output_type": "stream",
     "text": [
      "epoch=3.501953125, loss=3.327343225479126:  44%|████▍     | 1793/4096 [16:09<06:06,  6.29it/s] "
     ]
    },
    {
     "name": "stdout",
     "output_type": "stream",
     "text": [
      "epoch=3.5, eval_loss=3.2752599269151688\n"
     ]
    },
    {
     "name": "stderr",
     "output_type": "stream",
     "text": [
      "epoch=3.626953125, loss=3.319719076156616:  45%|████▌     | 1857/4096 [16:25<31:06,  1.20it/s] "
     ]
    },
    {
     "name": "stdout",
     "output_type": "stream",
     "text": [
      "epoch=3.625, eval_loss=3.2696596682071686\n"
     ]
    },
    {
     "name": "stderr",
     "output_type": "stream",
     "text": [
      "epoch=3.751953125, loss=3.2598586082458496:  47%|████▋     | 1921/4096 [16:41<27:39,  1.31it/s]"
     ]
    },
    {
     "name": "stdout",
     "output_type": "stream",
     "text": [
      "epoch=3.75, eval_loss=3.268536776304245\n"
     ]
    },
    {
     "name": "stderr",
     "output_type": "stream",
     "text": [
      "epoch=3.876953125, loss=3.245243787765503:  48%|████▊     | 1985/4096 [16:57<29:09,  1.21it/s] "
     ]
    },
    {
     "name": "stdout",
     "output_type": "stream",
     "text": [
      "epoch=3.875, eval_loss=3.252487041056156\n"
     ]
    },
    {
     "name": "stderr",
     "output_type": "stream",
     "text": [
      "epoch=4.001953125, loss=3.137700080871582:  50%|█████     | 2049/4096 [17:13<28:00,  1.22it/s] "
     ]
    },
    {
     "name": "stdout",
     "output_type": "stream",
     "text": [
      "epoch=4.0, eval_loss=3.251639634370804\n"
     ]
    },
    {
     "name": "stderr",
     "output_type": "stream",
     "text": [
      "epoch=4.126953125, loss=3.1749486923217773:  52%|█████▏    | 2113/4096 [17:29<25:41,  1.29it/s]"
     ]
    },
    {
     "name": "stdout",
     "output_type": "stream",
     "text": [
      "epoch=4.125, eval_loss=3.253706306219101\n"
     ]
    },
    {
     "name": "stderr",
     "output_type": "stream",
     "text": [
      "epoch=4.251953125, loss=3.20084547996521:  53%|█████▎    | 2177/4096 [17:45<26:35,  1.20it/s]  "
     ]
    },
    {
     "name": "stdout",
     "output_type": "stream",
     "text": [
      "epoch=4.25, eval_loss=3.2457273975014687\n"
     ]
    },
    {
     "name": "stderr",
     "output_type": "stream",
     "text": [
      "epoch=4.376953125, loss=3.1260030269622803:  55%|█████▍    | 2241/4096 [18:01<23:24,  1.32it/s]"
     ]
    },
    {
     "name": "stdout",
     "output_type": "stream",
     "text": [
      "epoch=4.375, eval_loss=3.2479342371225357\n"
     ]
    },
    {
     "name": "stderr",
     "output_type": "stream",
     "text": [
      "epoch=4.501953125, loss=3.1952075958251953:  56%|█████▋    | 2305/4096 [18:17<24:45,  1.21it/s]"
     ]
    },
    {
     "name": "stdout",
     "output_type": "stream",
     "text": [
      "epoch=4.5, eval_loss=3.236490599811077\n"
     ]
    },
    {
     "name": "stderr",
     "output_type": "stream",
     "text": [
      "epoch=4.626953125, loss=3.2338595390319824:  58%|█████▊    | 2369/4096 [18:33<22:30,  1.28it/s]"
     ]
    },
    {
     "name": "stdout",
     "output_type": "stream",
     "text": [
      "epoch=4.625, eval_loss=3.2354051768779755\n"
     ]
    },
    {
     "name": "stderr",
     "output_type": "stream",
     "text": [
      "epoch=4.751953125, loss=3.185671329498291:  59%|█████▉    | 2433/4096 [18:48<21:20,  1.30it/s] "
     ]
    },
    {
     "name": "stdout",
     "output_type": "stream",
     "text": [
      "epoch=4.75, eval_loss=3.223406232893467\n"
     ]
    },
    {
     "name": "stderr",
     "output_type": "stream",
     "text": [
      "epoch=4.876953125, loss=3.3248538970947266:  61%|██████    | 2497/4096 [19:04<20:42,  1.29it/s]"
     ]
    },
    {
     "name": "stdout",
     "output_type": "stream",
     "text": [
      "epoch=4.875, eval_loss=3.2288399040699005\n"
     ]
    },
    {
     "name": "stderr",
     "output_type": "stream",
     "text": [
      "epoch=5.001953125, loss=3.182645320892334:  63%|██████▎   | 2561/4096 [19:20<19:42,  1.30it/s] "
     ]
    },
    {
     "name": "stdout",
     "output_type": "stream",
     "text": [
      "epoch=5.0, eval_loss=3.218086615204811\n"
     ]
    },
    {
     "name": "stderr",
     "output_type": "stream",
     "text": [
      "epoch=5.126953125, loss=3.0962445735931396:  64%|██████▍   | 2625/4096 [19:36<18:50,  1.30it/s]"
     ]
    },
    {
     "name": "stdout",
     "output_type": "stream",
     "text": [
      "epoch=5.125, eval_loss=3.2256660982966423\n"
     ]
    },
    {
     "name": "stderr",
     "output_type": "stream",
     "text": [
      "epoch=5.251953125, loss=3.1995770931243896:  66%|██████▌   | 2689/4096 [19:52<17:45,  1.32it/s]"
     ]
    },
    {
     "name": "stdout",
     "output_type": "stream",
     "text": [
      "epoch=5.25, eval_loss=3.2246376648545265\n"
     ]
    },
    {
     "name": "stderr",
     "output_type": "stream",
     "text": [
      "epoch=5.376953125, loss=3.233969211578369:  67%|██████▋   | 2753/4096 [20:07<18:16,  1.22it/s] "
     ]
    },
    {
     "name": "stdout",
     "output_type": "stream",
     "text": [
      "epoch=5.375, eval_loss=3.216039650142193\n"
     ]
    },
    {
     "name": "stderr",
     "output_type": "stream",
     "text": [
      "epoch=5.501953125, loss=3.152343273162842:  69%|██████▉   | 2817/4096 [20:23<17:07,  1.24it/s] "
     ]
    },
    {
     "name": "stdout",
     "output_type": "stream",
     "text": [
      "epoch=5.5, eval_loss=3.209836132824421\n"
     ]
    },
    {
     "name": "stderr",
     "output_type": "stream",
     "text": [
      "epoch=5.626953125, loss=3.1431031227111816:  70%|███████   | 2881/4096 [20:41<15:43,  1.29it/s]"
     ]
    },
    {
     "name": "stdout",
     "output_type": "stream",
     "text": [
      "epoch=5.625, eval_loss=3.205096922814846\n"
     ]
    },
    {
     "name": "stderr",
     "output_type": "stream",
     "text": [
      "epoch=5.751953125, loss=3.0925116539001465:  72%|███████▏  | 2945/4096 [20:57<15:52,  1.21it/s]"
     ]
    },
    {
     "name": "stdout",
     "output_type": "stream",
     "text": [
      "epoch=5.75, eval_loss=3.206753797829151\n"
     ]
    },
    {
     "name": "stderr",
     "output_type": "stream",
     "text": [
      "epoch=5.876953125, loss=3.171351194381714:  73%|███████▎  | 3009/4096 [21:13<14:10,  1.28it/s] "
     ]
    },
    {
     "name": "stdout",
     "output_type": "stream",
     "text": [
      "epoch=5.875, eval_loss=3.197735734283924\n"
     ]
    },
    {
     "name": "stderr",
     "output_type": "stream",
     "text": [
      "epoch=6.001953125, loss=3.0027592182159424:  75%|███████▌  | 3073/4096 [21:29<14:01,  1.22it/s]"
     ]
    },
    {
     "name": "stdout",
     "output_type": "stream",
     "text": [
      "epoch=6.0, eval_loss=3.190479949116707\n"
     ]
    },
    {
     "name": "stderr",
     "output_type": "stream",
     "text": [
      "epoch=6.126953125, loss=3.1053121089935303:  77%|███████▋  | 3137/4096 [21:45<12:24,  1.29it/s]"
     ]
    },
    {
     "name": "stdout",
     "output_type": "stream",
     "text": [
      "epoch=6.125, eval_loss=3.1946793645620346\n"
     ]
    },
    {
     "name": "stderr",
     "output_type": "stream",
     "text": [
      "epoch=6.251953125, loss=3.1761322021484375:  78%|███████▊  | 3201/4096 [22:01<11:28,  1.30it/s]"
     ]
    },
    {
     "name": "stdout",
     "output_type": "stream",
     "text": [
      "epoch=6.25, eval_loss=3.1923727616667747\n"
     ]
    },
    {
     "name": "stderr",
     "output_type": "stream",
     "text": [
      "epoch=6.376953125, loss=3.1282594203948975:  80%|███████▉  | 3265/4096 [22:17<10:43,  1.29it/s]"
     ]
    },
    {
     "name": "stdout",
     "output_type": "stream",
     "text": [
      "epoch=6.375, eval_loss=3.1973287016153336\n"
     ]
    },
    {
     "name": "stderr",
     "output_type": "stream",
     "text": [
      "epoch=6.501953125, loss=3.1744956970214844:  81%|████████▏ | 3329/4096 [22:33<09:40,  1.32it/s]"
     ]
    },
    {
     "name": "stdout",
     "output_type": "stream",
     "text": [
      "epoch=6.5, eval_loss=3.190151497721672\n"
     ]
    },
    {
     "name": "stderr",
     "output_type": "stream",
     "text": [
      "epoch=6.626953125, loss=3.2258007526397705:  83%|████████▎ | 3393/4096 [22:53<15:17,  1.31s/it]"
     ]
    },
    {
     "name": "stdout",
     "output_type": "stream",
     "text": [
      "epoch=6.625, eval_loss=3.184963993728161\n"
     ]
    },
    {
     "name": "stderr",
     "output_type": "stream",
     "text": [
      "epoch=6.751953125, loss=3.1578478813171387:  84%|████████▍ | 3457/4096 [23:19<13:42,  1.29s/it]"
     ]
    },
    {
     "name": "stdout",
     "output_type": "stream",
     "text": [
      "epoch=6.75, eval_loss=3.182441957294941\n"
     ]
    },
    {
     "name": "stderr",
     "output_type": "stream",
     "text": [
      "epoch=6.876953125, loss=3.1876862049102783:  86%|████████▌ | 3521/4096 [23:45<12:58,  1.35s/it]"
     ]
    },
    {
     "name": "stdout",
     "output_type": "stream",
     "text": [
      "epoch=6.875, eval_loss=3.1822612956166267\n"
     ]
    },
    {
     "name": "stderr",
     "output_type": "stream",
     "text": [
      "epoch=7.001953125, loss=3.0921530723571777:  88%|████████▊ | 3585/4096 [24:12<11:14,  1.32s/it]"
     ]
    },
    {
     "name": "stdout",
     "output_type": "stream",
     "text": [
      "epoch=7.0, eval_loss=3.174404487013817\n"
     ]
    },
    {
     "name": "stderr",
     "output_type": "stream",
     "text": [
      "epoch=7.126953125, loss=3.0759434700012207:  89%|████████▉ | 3649/4096 [24:39<10:04,  1.35s/it]"
     ]
    },
    {
     "name": "stdout",
     "output_type": "stream",
     "text": [
      "epoch=7.125, eval_loss=3.185076668858528\n"
     ]
    },
    {
     "name": "stderr",
     "output_type": "stream",
     "text": [
      "epoch=7.251953125, loss=3.1523518562316895:  91%|█████████ | 3713/4096 [25:05<05:33,  1.15it/s]"
     ]
    },
    {
     "name": "stdout",
     "output_type": "stream",
     "text": [
      "epoch=7.25, eval_loss=3.1794336289167404\n"
     ]
    },
    {
     "name": "stderr",
     "output_type": "stream",
     "text": [
      "epoch=7.376953125, loss=3.0982861518859863:  92%|█████████▏| 3777/4096 [25:20<03:50,  1.39it/s]"
     ]
    },
    {
     "name": "stdout",
     "output_type": "stream",
     "text": [
      "epoch=7.375, eval_loss=3.179158464074135\n"
     ]
    },
    {
     "name": "stderr",
     "output_type": "stream",
     "text": [
      "epoch=7.501953125, loss=3.075368881225586:  94%|█████████▍| 3841/4096 [25:35<03:14,  1.31it/s] "
     ]
    },
    {
     "name": "stdout",
     "output_type": "stream",
     "text": [
      "epoch=7.5, eval_loss=3.1768733337521553\n"
     ]
    },
    {
     "name": "stderr",
     "output_type": "stream",
     "text": [
      "epoch=7.626953125, loss=3.134965419769287:  95%|█████████▌| 3905/4096 [25:49<02:15,  1.41it/s] "
     ]
    },
    {
     "name": "stdout",
     "output_type": "stream",
     "text": [
      "epoch=7.625, eval_loss=3.177146002650261\n"
     ]
    },
    {
     "name": "stderr",
     "output_type": "stream",
     "text": [
      "epoch=7.751953125, loss=3.178276777267456:  97%|█████████▋| 3969/4096 [26:05<01:33,  1.36it/s] "
     ]
    },
    {
     "name": "stdout",
     "output_type": "stream",
     "text": [
      "epoch=7.75, eval_loss=3.167697347700596\n"
     ]
    },
    {
     "name": "stderr",
     "output_type": "stream",
     "text": [
      "epoch=7.876953125, loss=3.1172213554382324:  98%|█████████▊| 4033/4096 [26:20<00:48,  1.29it/s]"
     ]
    },
    {
     "name": "stdout",
     "output_type": "stream",
     "text": [
      "epoch=7.875, eval_loss=3.166757471859455\n"
     ]
    },
    {
     "name": "stderr",
     "output_type": "stream",
     "text": [
      "epoch=8.0, loss=3.0846242904663086: 100%|██████████| 4096/4096 [26:35<00:00,  2.57it/s]        "
     ]
    },
    {
     "name": "stdout",
     "output_type": "stream",
     "text": [
      "epoch=8.0, eval_loss=3.1591607332229614\n"
     ]
    },
    {
     "name": "stderr",
     "output_type": "stream",
     "text": [
      "\n"
     ]
    }
   ],
   "source": [
    "trainer.train()"
   ]
  },
  {
   "cell_type": "markdown",
   "id": "0b4b73df",
   "metadata": {},
   "source": [
    "# Оцениваем качество и проверяем жадную и случайную генерацию"
   ]
  },
  {
   "cell_type": "code",
   "execution_count": 10,
   "id": "88155ce6",
   "metadata": {},
   "outputs": [
    {
     "data": {
      "text/plain": [
       "3.1591607332229614"
      ]
     },
     "execution_count": 10,
     "metadata": {},
     "output_type": "execute_result"
    }
   ],
   "source": [
    "trainer.evaluate()"
   ]
  },
  {
   "cell_type": "code",
   "execution_count": 11,
   "id": "e9299f79",
   "metadata": {},
   "outputs": [
    {
     "data": {
      "text/plain": [
       "'Козерогам стоит быть внимательнее к своему здоровью. В конце дня вы не сможете выяснить отношения, то можете стать жертвой в связи с ними, не теряйтесь, если вы не будете снизить, если вы не будете отлично понять свои личные потребности или неверные шаги, не терять времени на будущее. В конце дня возрастает вероятность того, что вы не захотите отложить на вечер, так как вполне естественное внимание на будущее или накопленное слово и способность несколько неверно понять, если вы не будете отлично понять окружающих, то сейчас вы не сможете выяснить отношения, то можете стать жертвой в связи с ними, не теряйтесь, если вы не будете думать о своих чувствах и выяснить свои силы и настойчивые шаги в вашу жизнь. В конце дня у вас могут появиться новые знакомства, которые вы не готовы в тупик, то можете столкнуться с ними имиджом. В конце дня вы не сможете выяснить отношения, то можете стать жертвой в связи с ними, не теряйтесь, если вы не будете снизить, если вы не будете отлично понять свои личные потребности или неверные шаги, не терять времени на будущее. В конце дня возрастает вероятность того, что вы не захотите отложить на вечер, так как вполне естественное внимание на будущее или накопленное слово и способность несколько неверно понять, если вы не будете отлично понять окружающих, то сейчас вы не сможете выяснить отношения, то можете стать жертвой в связи с ними, не теряйтесь, если вы не будете думать о своих чувствах и выяснить свои силы и настойчивые шаги в вашу жизнь. В конце дня у вас могут появиться новые знакомства, которые вы не готовы в тупик, то можете столкнуться с ними имиджом. В конце дня вы не сможете выяснить отношения, то можете стать жертвой в связи с ними, не теряйтесь, если вы не будете снизить, если вы не будете отлично понять свои личные потребности или неверные шаги, не терять времени на будущее. В конце дня возрастает вероятность того, что вы не захотите отложить на вечер, так как вполне естественное внимание на будущее или накопленное слово и способность несколько неверно понять, если вы не будете отлично понять окружающих, то сейчас вы не сможете выяснить отношения, то можете стать жертвой в связи с ними, не теряйтесь, если вы не будете думать о своих чувствах и выяснить свои силы и настойчивые шаги в вашу жизнь. В конце дня у вас могут появиться новые знакомства, которые вы не готовы в тупик, то можете столкнуться с ними имиджом. В конце дня вы не сможете выяснить отношения, то можете стать жертвой в связи с ними, не теряйтесь, если вы не будете снизить, если вы не будете отлично понять свои личные потребности или неверные шаги, не терять времени на будущее. В конце дня возрастает вероятность того, что вы не захотите отложить на вечер, так как вполне естественное внимание на будущее или накопленное слово и способность несколько неверно понять, если вы не будете отлично понять окружающих, то сейчас вы не сможете выяснить отношения, то можете стать жертвой в связи с ними, не теряйтесь, если вы не будете думать о своих чувствах и выяснить свои силы и настойчивые шаги в вашу жизнь. В конце дня у вас могут появиться новые знакомства, которые вы не готовы в тупик, то можете столкнуться с ними имиджом. В конце дня вы не сможете выяснить отношения, то можете стать жертвой в связи с ними, не теряйтесь, если вы не будете снизить, если вы не будете отлично понять свои личные потребности или неверные шаги, не терять времени на будущее. В конце дня возрастает вероятность того, что вы не захотите отложить на вечер, так как вполне естественное внимание на будущее или накопленное слово и способность несколько неверно понять, если вы не будете отлично понять окружающих, то сейчас вы не сможете выяснить отношения, то можете стать жертвой в связи с ними, не теряйтесь, если вы не будете дум'"
      ]
     },
     "execution_count": 11,
     "metadata": {},
     "output_type": "execute_result"
    }
   ],
   "source": [
    "generate(model, tokenizer, temperature=0)"
   ]
  },
  {
   "cell_type": "code",
   "execution_count": 12,
   "id": "441e4368",
   "metadata": {},
   "outputs": [
    {
     "data": {
      "text/plain": [
       "'Прекрасный день для гармонизации отношений с окружающим миром и хозяйственной почвами для развития бизнеса, рекламных мероприятий, особенно для заключения сделок и договоров, открытия предприятий и начала лечения во благотворительных и обретения. Хороший день для любых начинаний, часто и открытия предприятий, дальней поездки, учебы, бизнесмены, а также для выступлений на новой культуры, искусством, искусством, подписания контрактов и выступлений и поездков, переговоров со спонсором и культурными органами, а также для заключения сделок, для выступлений и различных инструментов, а также для общественного деятеля, публичных выступлений. Полезно использовать для получения новых дел, особенно касающихся семейных отношений и методологических мероприятий. Вероятны конфликты с людьми издалека.'"
      ]
     },
     "execution_count": 12,
     "metadata": {},
     "output_type": "execute_result"
    }
   ],
   "source": [
    "generate(model, tokenizer, temperature=0.5, top_k=20)"
   ]
  }
 ],
 "metadata": {
  "kernelspec": {
   "display_name": "Python 3",
   "language": "python",
   "name": "python3"
  },
  "language_info": {
   "codemirror_mode": {
    "name": "ipython",
    "version": 3
   },
   "file_extension": ".py",
   "mimetype": "text/x-python",
   "name": "python",
   "nbconvert_exporter": "python",
   "pygments_lexer": "ipython3",
   "version": "3.12.3"
  }
 },
 "nbformat": 4,
 "nbformat_minor": 5
}
